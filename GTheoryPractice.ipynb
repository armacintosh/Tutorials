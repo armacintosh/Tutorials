{
  "nbformat": 4,
  "nbformat_minor": 0,
  "metadata": {
    "colab": {
      "name": "GTheoryPractice.ipynb",
      "provenance": [],
      "collapsed_sections": [],
      "toc_visible": true,
      "authorship_tag": "ABX9TyPtpz+BvItIIgpQl6YS7Hoq",
      "include_colab_link": true
    },
    "kernelspec": {
      "name": "ir",
      "display_name": "R"
    },
    "language_info": {
      "name": "R"
    }
  },
  "cells": [
    {
      "cell_type": "markdown",
      "metadata": {
        "id": "view-in-github",
        "colab_type": "text"
      },
      "source": [
        "<a href=\"https://colab.research.google.com/github/armacintosh/Tutorials/blob/main/GTheoryPractice.ipynb\" target=\"_parent\"><img src=\"https://colab.research.google.com/assets/colab-badge.svg\" alt=\"Open In Colab\"/></a>"
      ]
    },
    {
      "cell_type": "markdown",
      "source": [
        "# Generalizability Theory in R \n",
        "[article walkthrough](https://scholarworks.umass.edu/cgi/viewcontent.cgi?article=1337&context=pare)\n",
        "\n",
        "Citation: Huebner, A. & Lucht, M. (2019). Generalizability Theory in R. Practical Assessment, Research & Evaluation, 24(5).\n",
        "Available online: http://pareonline.net/getvn.asp?v=24&n=5 \n",
        "\n",
        "## Facets\n",
        "if a sample of people are administered a set of items that are graded by different raters on multiple occasions, then items, raters, and occasions would all be considered facets in the study. \n",
        "\n",
        "## Designs\n",
        "Facets are crossed or nested. \n",
        "\n",
        "*   In a **crossed** design, all conditions of one facet are observed in all conditions of every other facet. For example, in a crossed one-facet design with items as the only facet, every person is measured on each item, as this\n",
        "is referred to as a *p x i* design.\n",
        "\n",
        "*   There are designs in which facets are **nested** within one another. \n",
        "For example, if the single-facet scenario described above was modified\n",
        "so that each person was administered a unique set of\n",
        "items (rather than all persons receiving the same items),\n",
        "then items would be nested in persons. This design is\n",
        "referred to as a *𝑖:p*.\n",
        "\n",
        "*   An example of a nested design with two facets is the *p x (i:o)* design, in which all persons answer the same items, but the items\n",
        "are different on each occasion.\n",
        "\n",
        "\n",
        "## G studies \n",
        "ordinarily involve estimating the variance of the measurements, which is decomposed into the variance of the components. This information allows the researcher to identify the sources contributing the greatest variability to the\n",
        "measurements.\n",
        "\n",
        "## D studies \n",
        "The D study is used to identify the optimal number of conditions of each facet in order to maximize reliability. The D study variance components can be\n",
        "derived from the G study variance components listed in Table 1 by dividing the G study components by the proposed number of facets.\n",
        "\n",
        "The D study also involves the computation of two reliability coefficients:\n",
        "\n",
        "1.   generalizability - 𝑬𝜌^2\n",
        "2.   index of dependability - 𝛷\n",
        "\n",
        "\n",
        "\n",
        "\n",
        "\n"
      ],
      "metadata": {
        "id": "SLyZRmel9hby"
      }
    },
    {
      "cell_type": "markdown",
      "source": [
        "# Get packages"
      ],
      "metadata": {
        "id": "2ub4a3R7CyRd"
      }
    },
    {
      "cell_type": "code",
      "execution_count": 3,
      "metadata": {
        "colab": {
          "base_uri": "https://localhost:8080/"
        },
        "id": "ptWne1W89Xt6",
        "outputId": "f31287fc-a74f-4f50-e234-ea1f0e404da8"
      },
      "outputs": [
        {
          "output_type": "stream",
          "name": "stderr",
          "text": [
            "Installing package into ‘/usr/local/lib/R/site-library’\n",
            "(as ‘lib’ is unspecified)\n",
            "\n",
            "also installing the dependencies ‘minqa’, ‘nloptr’, ‘RcppEigen’, ‘lme4’\n",
            "\n",
            "\n",
            "Loading required package: lme4\n",
            "\n",
            "Loading required package: Matrix\n",
            "\n"
          ]
        }
      ],
      "source": [
        "# install.packages('gtheory')\n",
        "library(gtheory)"
      ]
    },
    {
      "cell_type": "markdown",
      "source": [
        "# Read in Data "
      ],
      "metadata": {
        "id": "uc-lBoT7CpL9"
      }
    },
    {
      "cell_type": "code",
      "source": [
        "#Read in the pi_dat data:\n",
        "Person <- as.factor(rep(1:6,each = 4))\n",
        "Item <- as.factor(rep(1:4,times = 6))\n",
        "Score <- c(9,9,7,4,9,8,4,6,8,8,6,2,\n",
        " 9,8,6,3,10,9,8,7,6,4,5,1)\n",
        "pi_dat <- data.frame(Person,Item,Score)\n",
        "\n",
        "# Read in the pio_cross_dat data:\n",
        "Person <- as.factor(rep(1:6,each = 8))\n",
        "Occasion <- as.factor(rep(1:2,each = 4,times = 6))\n",
        "Item <- as.factor(rep(1:4,times = 12))\n",
        "Score <- c(9,9,7,4,9,8,5,5,9,8,4,6,\n",
        " 6,5,3,3,8,8,6,2,8,7,3,2,\n",
        " 9,8,6,3,9,6,6,2,10,9,8,7,\n",
        " 8,8,9,7,6,4,5,1,3,2,3,2)\n",
        "pio_cross_dat <- data.frame(Person,Item,Score,Occasion)\n",
        "\n",
        "# Read in the pio_nest_dat data:\n",
        "Person <- as.factor(rep(1:6,each = 4))\n",
        "Occasion <- as.factor(rep(1:2,each = 2,times = 6))\n",
        "Item <- as.factor(rep(1:4,times = 6))\n",
        "Score <- c(9,9,5,5,9,8,3,3,8,8,3,2,\n",
        " 9,8,6,2,10,9,9,7,6,4,3,2)\n",
        "pio_nest_dat <- data.frame(Person,Item,Score,Occasion) "
      ],
      "metadata": {
        "id": "6RP83MQCCpT7"
      },
      "execution_count": 6,
      "outputs": []
    },
    {
      "cell_type": "markdown",
      "source": [
        "# Single Facet Design\n",
        "First, an ANOVA analysis is conducted on the data in order to determine the DF, SS, and MS for the data, shown in columns two through four of Table 3, where 𝛼 denotes a generic effect. "
      ],
      "metadata": {
        "id": "4PaxgItT9fn-"
      }
    },
    {
      "cell_type": "code",
      "source": [
        "summary(aov(Score~Person+Item, data = pi_dat))"
      ],
      "metadata": {
        "colab": {
          "base_uri": "https://localhost:8080/",
          "height": 121
        },
        "id": "6fkLtSm2Dxf_",
        "outputId": "bfbfc039-7044-4719-df78-62a4b4bf1a8b"
      },
      "execution_count": 7,
      "outputs": [
        {
          "output_type": "display_data",
          "data": {
            "text/plain": [
              "            Df Sum Sq Mean Sq F value   Pr(>F)    \n",
              "Person       5  44.50   8.900   6.965  0.00151 ** \n",
              "Item         3  76.33  25.444  19.913 1.73e-05 ***\n",
              "Residuals   15  19.17   1.278                     \n",
              "---\n",
              "Signif. codes:  0 ‘***’ 0.001 ‘**’ 0.01 ‘*’ 0.05 ‘.’ 0.1 ‘ ’ 1"
            ]
          },
          "metadata": {}
        }
      ]
    },
    {
      "cell_type": "markdown",
      "source": [
        "For G-study, the model must be specified for the formula argument; for the one-facet 𝑝x𝑖 crossed design, the formula is written as follows:\n",
        "Note, The gtheory package is essentially a wrapper for lme4."
      ],
      "metadata": {
        "id": "qOyTOeUhEGXk"
      }
    },
    {
      "cell_type": "code",
      "source": [
        "formula1 <- Score ~ (1|Person)+(1|Item)"
      ],
      "metadata": {
        "id": "friVBn7JEOp7"
      },
      "execution_count": 9,
      "outputs": []
    },
    {
      "cell_type": "markdown",
      "source": [
        "This formula is passed as an argument to the gstudy() function to determine\n",
        "the variance component estimates and the percentage of total variation for each term.\n",
        "\n",
        "variance components estimates and percentage of the total variation, are\n",
        "displayed in the fifth and sixth columns of Table 3. This portion of Table 3 may be obtained by typing g1$components. "
      ],
      "metadata": {
        "id": "9Dqxnu47Egpd"
      }
    },
    {
      "cell_type": "code",
      "source": [
        "g1 <- gstudy(data = pi_dat, formula1)\n",
        "g1$components"
      ],
      "metadata": {
        "colab": {
          "base_uri": "https://localhost:8080/",
          "height": 192
        },
        "id": "DZyzenrSEjXd",
        "outputId": "f51318c7-db44-41a1-cd4a-9a9ddbf7dfa0"
      },
      "execution_count": 13,
      "outputs": [
        {
          "output_type": "display_data",
          "data": {
            "text/plain": [
              "  source   var      percent n\n",
              "1 Person   1.905558 26.4    1\n",
              "2 Item     4.027814 55.9    1\n",
              "3 Residual 1.277775 17.7    1"
            ],
            "text/latex": "A components: 3 × 4\n\\begin{tabular}{llll}\n source & var & percent & n\\\\\n <chr> & <dbl> & <dbl> & <dbl>\\\\\n\\hline\n\t Person   & 1.905558 & 26.4 & 1\\\\\n\t Item     & 4.027814 & 55.9 & 1\\\\\n\t Residual & 1.277775 & 17.7 & 1\\\\\n\\end{tabular}\n",
            "text/markdown": "\nA components: 3 × 4\n\n| source &lt;chr&gt; | var &lt;dbl&gt; | percent &lt;dbl&gt; | n &lt;dbl&gt; |\n|---|---|---|---|\n| Person   | 1.905558 | 26.4 | 1 |\n| Item     | 4.027814 | 55.9 | 1 |\n| Residual | 1.277775 | 17.7 | 1 |\n\n",
            "text/html": [
              "<table class=\"dataframe\">\n",
              "<caption>A components: 3 × 4</caption>\n",
              "<thead>\n",
              "\t<tr><th scope=col>source</th><th scope=col>var</th><th scope=col>percent</th><th scope=col>n</th></tr>\n",
              "\t<tr><th scope=col>&lt;chr&gt;</th><th scope=col>&lt;dbl&gt;</th><th scope=col>&lt;dbl&gt;</th><th scope=col>&lt;dbl&gt;</th></tr>\n",
              "</thead>\n",
              "<tbody>\n",
              "\t<tr><td>Person  </td><td>1.905558</td><td>26.4</td><td>1</td></tr>\n",
              "\t<tr><td>Item    </td><td>4.027814</td><td>55.9</td><td>1</td></tr>\n",
              "\t<tr><td>Residual</td><td>1.277775</td><td>17.7</td><td>1</td></tr>\n",
              "</tbody>\n",
              "</table>\n"
            ]
          },
          "metadata": {}
        }
      ]
    },
    {
      "cell_type": "markdown",
      "source": [
        "A D study can be performed by using the dstudy() function with the same formula.\n",
        "\n",
        "The object of measurement is always the person or group being measured, and the score is the numeric value of the measured variable. For this example, the results of the dstudy() function are stored in the variable d1.\n"
      ],
      "metadata": {
        "id": "04TJJTWGE-i3"
      }
    },
    {
      "cell_type": "code",
      "source": [
        "d1 <- dstudy(g1,colname.objects=\"Person\", colname.scores=\"Score\", data= pi_dat)\n",
        "\n",
        "d1$components\n",
        "\n",
        "d1$var.universe # universe score variance\n",
        "d1$var.error.rel # relative error variance\n",
        "d1$generalizability # g coefficient\n",
        "d1$dependability # dependability coefficient"
      ],
      "metadata": {
        "colab": {
          "base_uri": "https://localhost:8080/",
          "height": 262
        },
        "id": "8p11YAuZEljl",
        "outputId": "3f4703f8-f204-4a83-9bbf-23dc1041529d"
      },
      "execution_count": 20,
      "outputs": [
        {
          "output_type": "display_data",
          "data": {
            "text/plain": [
              "  source   var       percent n\n",
              "1 Person   1.9055579 59.0    1\n",
              "2 Item     1.0069535 31.2    4\n",
              "3 Residual 0.3194438  9.9    4"
            ],
            "text/latex": "A components: 3 × 4\n\\begin{tabular}{llll}\n source & var & percent & n\\\\\n <chr> & <dbl> & <dbl> & <dbl>\\\\\n\\hline\n\t Person   & 1.9055579 & 59.0 & 1\\\\\n\t Item     & 1.0069535 & 31.2 & 4\\\\\n\t Residual & 0.3194438 &  9.9 & 4\\\\\n\\end{tabular}\n",
            "text/markdown": "\nA components: 3 × 4\n\n| source &lt;chr&gt; | var &lt;dbl&gt; | percent &lt;dbl&gt; | n &lt;dbl&gt; |\n|---|---|---|---|\n| Person   | 1.9055579 | 59.0 | 1 |\n| Item     | 1.0069535 | 31.2 | 4 |\n| Residual | 0.3194438 |  9.9 | 4 |\n\n",
            "text/html": [
              "<table class=\"dataframe\">\n",
              "<caption>A components: 3 × 4</caption>\n",
              "<thead>\n",
              "\t<tr><th scope=col>source</th><th scope=col>var</th><th scope=col>percent</th><th scope=col>n</th></tr>\n",
              "\t<tr><th scope=col>&lt;chr&gt;</th><th scope=col>&lt;dbl&gt;</th><th scope=col>&lt;dbl&gt;</th><th scope=col>&lt;dbl&gt;</th></tr>\n",
              "</thead>\n",
              "<tbody>\n",
              "\t<tr><td>Person  </td><td>1.9055579</td><td>59.0</td><td>1</td></tr>\n",
              "\t<tr><td>Item    </td><td>1.0069535</td><td>31.2</td><td>4</td></tr>\n",
              "\t<tr><td>Residual</td><td>0.3194438</td><td> 9.9</td><td>4</td></tr>\n",
              "</tbody>\n",
              "</table>\n"
            ]
          },
          "metadata": {}
        },
        {
          "output_type": "display_data",
          "data": {
            "text/plain": [
              "[1] 1.905558"
            ],
            "text/latex": "1.90555788422059",
            "text/markdown": "1.90555788422059",
            "text/html": [
              "1.90555788422059"
            ]
          },
          "metadata": {}
        },
        {
          "output_type": "display_data",
          "data": {
            "text/plain": [
              "[1] 0.3194438"
            ],
            "text/latex": "0.319443823465888",
            "text/markdown": "0.319443823465888",
            "text/html": [
              "0.319443823465888"
            ]
          },
          "metadata": {}
        },
        {
          "output_type": "display_data",
          "data": {
            "text/plain": [
              "[1] 0.8564299"
            ],
            "text/latex": "0.856429852452544",
            "text/markdown": "0.856429852452544",
            "text/html": [
              "0.856429852452544"
            ]
          },
          "metadata": {}
        },
        {
          "output_type": "display_data",
          "data": {
            "text/plain": [
              "[1] 0.5895991"
            ],
            "text/latex": "0.589599101415517",
            "text/markdown": "0.589599101415517",
            "text/html": [
              "0.589599101415517"
            ]
          },
          "metadata": {}
        }
      ]
    },
    {
      "cell_type": "markdown",
      "source": [
        "To get estimates for different number of conditions\n",
        "\n",
        "It is important to note that as the value of 𝑛_i increases, the generalizability and dependability increase."
      ],
      "metadata": {
        "id": "3LnV6Il2GKOD"
      }
    },
    {
      "cell_type": "code",
      "source": [
        "# number of conditions \n",
        "n_i <- c(1,2,5,10)\n",
        "\n",
        "#relative error variance\n",
        "rel_err_var <- g1$components[3,2]/n_i\n",
        "\n",
        "#absolute error variance\n",
        "abs_err_var <-\n",
        "g1$components[2,2]/n_i+g1$components[3,\n",
        "2]/n_i\n",
        "\n",
        "#calculate generalizability coefficient\n",
        "gen_coef <-\n",
        "g1$components[1,2]/(g1$components[1,2]\n",
        "+ rel_err_var)\n",
        "\n",
        "#calculate dependability coefficient\n",
        "dep_coef <-\n",
        "g1$components[1,2]/(g1$components[1,2]\n",
        "+ abs_err_var)\n",
        "round(rel_err_var,2)\n",
        "round(abs_err_var,2)\n",
        "round(gen_coef,2)\n",
        "round(dep_coef,2) "
      ],
      "metadata": {
        "colab": {
          "base_uri": "https://localhost:8080/",
          "height": 86
        },
        "id": "msxx9qMHFPBy",
        "outputId": "3a84d2e7-45d6-41b6-fb46-8794386faba4"
      },
      "execution_count": 22,
      "outputs": [
        {
          "output_type": "display_data",
          "data": {
            "text/plain": [
              "[1] 1.28 0.64 0.26 0.13"
            ],
            "text/latex": "\\begin{enumerate*}\n\\item 1.28\n\\item 0.64\n\\item 0.26\n\\item 0.13\n\\end{enumerate*}\n",
            "text/markdown": "1. 1.28\n2. 0.64\n3. 0.26\n4. 0.13\n\n\n",
            "text/html": [
              "<style>\n",
              ".list-inline {list-style: none; margin:0; padding: 0}\n",
              ".list-inline>li {display: inline-block}\n",
              ".list-inline>li:not(:last-child)::after {content: \"\\00b7\"; padding: 0 .5ex}\n",
              "</style>\n",
              "<ol class=list-inline><li>1.28</li><li>0.64</li><li>0.26</li><li>0.13</li></ol>\n"
            ]
          },
          "metadata": {}
        },
        {
          "output_type": "display_data",
          "data": {
            "text/plain": [
              "[1] 5.31 2.65 1.06 0.53"
            ],
            "text/latex": "\\begin{enumerate*}\n\\item 5.31\n\\item 2.65\n\\item 1.06\n\\item 0.53\n\\end{enumerate*}\n",
            "text/markdown": "1. 5.31\n2. 2.65\n3. 1.06\n4. 0.53\n\n\n",
            "text/html": [
              "<style>\n",
              ".list-inline {list-style: none; margin:0; padding: 0}\n",
              ".list-inline>li {display: inline-block}\n",
              ".list-inline>li:not(:last-child)::after {content: \"\\00b7\"; padding: 0 .5ex}\n",
              "</style>\n",
              "<ol class=list-inline><li>5.31</li><li>2.65</li><li>1.06</li><li>0.53</li></ol>\n"
            ]
          },
          "metadata": {}
        },
        {
          "output_type": "display_data",
          "data": {
            "text/plain": [
              "[1] 0.60 0.75 0.88 0.94"
            ],
            "text/latex": "\\begin{enumerate*}\n\\item 0.6\n\\item 0.75\n\\item 0.88\n\\item 0.94\n\\end{enumerate*}\n",
            "text/markdown": "1. 0.6\n2. 0.75\n3. 0.88\n4. 0.94\n\n\n",
            "text/html": [
              "<style>\n",
              ".list-inline {list-style: none; margin:0; padding: 0}\n",
              ".list-inline>li {display: inline-block}\n",
              ".list-inline>li:not(:last-child)::after {content: \"\\00b7\"; padding: 0 .5ex}\n",
              "</style>\n",
              "<ol class=list-inline><li>0.6</li><li>0.75</li><li>0.88</li><li>0.94</li></ol>\n"
            ]
          },
          "metadata": {}
        },
        {
          "output_type": "display_data",
          "data": {
            "text/plain": [
              "[1] 0.26 0.42 0.64 0.78"
            ],
            "text/latex": "\\begin{enumerate*}\n\\item 0.26\n\\item 0.42\n\\item 0.64\n\\item 0.78\n\\end{enumerate*}\n",
            "text/markdown": "1. 0.26\n2. 0.42\n3. 0.64\n4. 0.78\n\n\n",
            "text/html": [
              "<style>\n",
              ".list-inline {list-style: none; margin:0; padding: 0}\n",
              ".list-inline>li {display: inline-block}\n",
              ".list-inline>li:not(:last-child)::after {content: \"\\00b7\"; padding: 0 .5ex}\n",
              "</style>\n",
              "<ol class=list-inline><li>0.26</li><li>0.42</li><li>0.64</li><li>0.78</li></ol>\n"
            ]
          },
          "metadata": {}
        }
      ]
    },
    {
      "cell_type": "markdown",
      "source": [
        "# Two Facet Deisgn\n",
        "\n",
        "The variance in a two-facet *p x i x O* design can be attributed to the seven variance components as shown in Table 1. We use the pio_cross_dat to illustrate."
      ],
      "metadata": {
        "id": "N4is7jCGG_vq"
      }
    },
    {
      "cell_type": "code",
      "source": [
        ""
      ],
      "metadata": {
        "id": "amHRWWRaHP6z"
      },
      "execution_count": null,
      "outputs": []
    }
  ]
}
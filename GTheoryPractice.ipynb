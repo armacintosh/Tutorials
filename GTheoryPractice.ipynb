{
  "nbformat": 4,
  "nbformat_minor": 0,
  "metadata": {
    "colab": {
      "name": "GTheoryPractice.ipynb",
      "provenance": [],
      "collapsed_sections": [],
      "toc_visible": true,
      "authorship_tag": "ABX9TyP7qJ+++KD6/EHkIBmhNYCX",
      "include_colab_link": true
    },
    "kernelspec": {
      "name": "ir",
      "display_name": "R"
    },
    "language_info": {
      "name": "R"
    }
  },
  "cells": [
    {
      "cell_type": "markdown",
      "metadata": {
        "id": "view-in-github",
        "colab_type": "text"
      },
      "source": [
        "<a href=\"https://colab.research.google.com/github/armacintosh/Tutorials/blob/main/GTheoryPractice.ipynb\" target=\"_parent\"><img src=\"https://colab.research.google.com/assets/colab-badge.svg\" alt=\"Open In Colab\"/></a>"
      ]
    },
    {
      "cell_type": "markdown",
      "source": [
        "# Generalizability Theory in R \n",
        "[article walkthrough](https://scholarworks.umass.edu/cgi/viewcontent.cgi?article=1337&context=pare)\n",
        "\n",
        "## Facets\n",
        "if a sample of people are administered a set of items that are graded by different raters on multiple occasions, then items, raters, and occasions would all be considered facets in the study. \n",
        "\n",
        "## Designs\n",
        "Facets are crossed or nested. \n",
        "\n",
        "*   In a **crossed** design, all conditions of one facet are observed in all conditions of every other facet. For example, in a crossed one-facet design with items as the only facet, every person is measured on each item, as this\n",
        "is referred to as a *p x i* design.\n",
        "\n",
        "*   There are designs in which facets are **nested** within one another. \n",
        "For example, if the single-facet scenario described above was modified\n",
        "so that each person was administered a unique set of\n",
        "items (rather than all persons receiving the same items),\n",
        "then items would be nested in persons. This design is\n",
        "referred to as a *𝑖:p*.\n",
        "\n",
        "*   An example of a nested design with two facets is the *p x (i:o)* design, in which all persons answer the same items, but the items\n",
        "are different on each occasion.\n",
        "\n",
        "\n",
        "## G studies \n",
        "ordinarily involve estimating the variance of the measurements, which is decomposed into the variance of the components. This information allows the researcher to identify the sources contributing the greatest variability to the\n",
        "measurements.\n",
        "\n",
        "## D studies \n",
        "The D study is used to identify the optimal number of conditions of each facet in order to maximize reliability. The D study variance components can be\n",
        "derived from the G study variance components listed in Table 1 by dividing the G study components by the proposed number of facets.\n",
        "\n",
        "The D study also involves the computation of two reliability coefficients:\n",
        "\n",
        "1.   generalizability - 𝑬𝜌^2\n",
        "2.   index of dependability - 𝛷\n",
        "\n",
        "\n",
        "\n",
        "\n",
        "\n"
      ],
      "metadata": {
        "id": "SLyZRmel9hby"
      }
    },
    {
      "cell_type": "code",
      "execution_count": null,
      "metadata": {
        "id": "ptWne1W89Xt6"
      },
      "outputs": [],
      "source": [
        ""
      ]
    },
    {
      "cell_type": "markdown",
      "source": [
        ""
      ],
      "metadata": {
        "id": "4PaxgItT9fn-"
      }
    }
  ]
}
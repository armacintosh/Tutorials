{
  "nbformat": 4,
  "nbformat_minor": 0,
  "metadata": {
    "colab": {
      "name": "GTheoryPractice.ipynb",
      "provenance": [],
      "collapsed_sections": [],
      "toc_visible": true,
      "authorship_tag": "ABX9TyPDS9NmTsJlOnGVu65Df/Y2",
      "include_colab_link": true
    },
    "kernelspec": {
      "name": "ir",
      "display_name": "R"
    },
    "language_info": {
      "name": "R"
    }
  },
  "cells": [
    {
      "cell_type": "markdown",
      "metadata": {
        "id": "view-in-github",
        "colab_type": "text"
      },
      "source": [
        "<a href=\"https://colab.research.google.com/github/armacintosh/Tutorials/blob/main/GTheoryPractice.ipynb\" target=\"_parent\"><img src=\"https://colab.research.google.com/assets/colab-badge.svg\" alt=\"Open In Colab\"/></a>"
      ]
    },
    {
      "cell_type": "markdown",
      "source": [
        "# Generalizability Theory in R \n",
        "[article walkthrough](https://scholarworks.umass.edu/cgi/viewcontent.cgi?article=1337&context=pare)\n",
        "\n",
        "Citation: Huebner, A. & Lucht, M. (2019). Generalizability Theory in R. Practical Assessment, Research & Evaluation, 24(5).\n",
        "Available online: http://pareonline.net/getvn.asp?v=24&n=5 \n",
        "\n",
        "## Facets\n",
        "if a sample of people are administered a set of items that are graded by different raters on multiple occasions, then items, raters, and occasions would all be considered facets in the study. \n",
        "\n",
        "## Designs\n",
        "Facets are crossed or nested. \n",
        "\n",
        "*   In a **crossed** design, all conditions of one facet are observed in all conditions of every other facet. For example, in a crossed one-facet design with items as the only facet, every person is measured on each item, as this\n",
        "is referred to as a *p x i* design.\n",
        "\n",
        "*   There are designs in which facets are **nested** within one another. \n",
        "For example, if the single-facet scenario described above was modified\n",
        "so that each person was administered a unique set of\n",
        "items (rather than all persons receiving the same items),\n",
        "then items would be nested in persons. This design is\n",
        "referred to as a *𝑖:p*.\n",
        "\n",
        "*   An example of a nested design with two facets is the *p x (i:o)* design, in which all persons answer the same items, but the items\n",
        "are different on each occasion.\n",
        "\n",
        "\n",
        "## G studies \n",
        "ordinarily involve estimating the variance of the measurements, which is decomposed into the variance of the components. This information allows the researcher to identify the sources contributing the greatest variability to the\n",
        "measurements.\n",
        "\n",
        "## D studies \n",
        "The D study is used to identify the optimal number of conditions of each facet in order to maximize reliability. The D study variance components can be\n",
        "derived from the G study variance components listed in Table 1 by dividing the G study components by the proposed number of facets.\n",
        "\n",
        "The D study also involves the computation of two reliability coefficients:\n",
        "\n",
        "1.   generalizability - 𝑬𝜌^2\n",
        "2.   index of dependability - 𝛷\n",
        "\n",
        "\n",
        "\n",
        "\n",
        "\n"
      ],
      "metadata": {
        "id": "SLyZRmel9hby"
      }
    },
    {
      "cell_type": "markdown",
      "source": [
        "# Get packages"
      ],
      "metadata": {
        "id": "2ub4a3R7CyRd"
      }
    },
    {
      "cell_type": "code",
      "execution_count": null,
      "metadata": {
        "colab": {
          "base_uri": "https://localhost:8080/"
        },
        "id": "ptWne1W89Xt6",
        "outputId": "4568b97e-0677-46e1-8911-a4a6011e2728"
      },
      "outputs": [
        {
          "output_type": "stream",
          "name": "stderr",
          "text": [
            "Installing package into ‘/usr/local/lib/R/site-library’\n",
            "(as ‘lib’ is unspecified)\n",
            "\n",
            "also installing the dependencies ‘minqa’, ‘nloptr’, ‘RcppEigen’, ‘lme4’\n",
            "\n",
            "\n",
            "Loading required package: lme4\n",
            "\n",
            "Loading required package: Matrix\n",
            "\n"
          ]
        }
      ],
      "source": [
        "install.packages('gtheory')\n",
        "library(gtheory)"
      ]
    },
    {
      "cell_type": "markdown",
      "source": [
        "# Read in Data "
      ],
      "metadata": {
        "id": "uc-lBoT7CpL9"
      }
    },
    {
      "cell_type": "code",
      "source": [
        "#Read in the pi_dat data:\n",
        "Person <- as.factor(rep(1:6,each = 4))\n",
        "Item <- as.factor(rep(1:4,times = 6))\n",
        "Score <- c(9,9,7,4,9,8,4,6,8,8,6,2,\n",
        " 9,8,6,3,10,9,8,7,6,4,5,1)\n",
        "pi_dat <- data.frame(Person,Item,Score)\n",
        "\n",
        "# Read in the pio_cross_dat data:\n",
        "Person <- as.factor(rep(1:6,each = 8))\n",
        "Occasion <- as.factor(rep(1:2,each = 4,times = 6))\n",
        "Item <- as.factor(rep(1:4,times = 12))\n",
        "Score <- c(9,9,7,4,9,8,5,5,9,8,4,6,\n",
        " 6,5,3,3,8,8,6,2,8,7,3,2,\n",
        " 9,8,6,3,9,6,6,2,10,9,8,7,\n",
        " 8,8,9,7,6,4,5,1,3,2,3,2)\n",
        "pio_cross_dat <- data.frame(Person,Item,Score,Occasion)\n",
        "\n",
        "# Read in the pio_nest_dat data:\n",
        "Person <- as.factor(rep(1:6,each = 4))\n",
        "Occasion <- as.factor(rep(1:2,each = 2,times = 6))\n",
        "Item <- as.factor(rep(1:4,times = 6))\n",
        "Score <- c(9,9,5,5,9,8,3,3,8,8,3,2,\n",
        " 9,8,6,2,10,9,9,7,6,4,3,2)\n",
        "pio_nest_dat <- data.frame(Person,Item,Score,Occasion) "
      ],
      "metadata": {
        "id": "6RP83MQCCpT7"
      },
      "execution_count": null,
      "outputs": []
    },
    {
      "cell_type": "markdown",
      "source": [
        "#**Crossed designs**\n",
        "---"
      ],
      "metadata": {
        "id": "dIdHH_sz_xFh"
      }
    },
    {
      "cell_type": "markdown",
      "source": [
        "## Single Facet Design\n",
        "First, an ANOVA analysis is conducted on the data in order to determine the DF, SS, and MS for the data, shown in columns two through four of Table 3, where 𝛼 denotes a generic effect. "
      ],
      "metadata": {
        "id": "4PaxgItT9fn-"
      }
    },
    {
      "cell_type": "code",
      "source": [
        "summary(aov(Score~Person+Item, data = pi_dat))"
      ],
      "metadata": {
        "colab": {
          "base_uri": "https://localhost:8080/",
          "height": 121
        },
        "id": "6fkLtSm2Dxf_",
        "outputId": "c77b915e-a7be-41ea-9d4f-234f7d08839d"
      },
      "execution_count": null,
      "outputs": [
        {
          "output_type": "display_data",
          "data": {
            "text/plain": [
              "            Df Sum Sq Mean Sq F value   Pr(>F)    \n",
              "Person       5  44.50   8.900   6.965  0.00151 ** \n",
              "Item         3  76.33  25.444  19.913 1.73e-05 ***\n",
              "Residuals   15  19.17   1.278                     \n",
              "---\n",
              "Signif. codes:  0 ‘***’ 0.001 ‘**’ 0.01 ‘*’ 0.05 ‘.’ 0.1 ‘ ’ 1"
            ]
          },
          "metadata": {}
        }
      ]
    },
    {
      "cell_type": "markdown",
      "source": [
        "For G-study, the model must be specified for the formula argument; for the one-facet 𝑝x𝑖 crossed design, the formula is written as follows:\n",
        "Note, The gtheory package is essentially a wrapper for lme4."
      ],
      "metadata": {
        "id": "qOyTOeUhEGXk"
      }
    },
    {
      "cell_type": "code",
      "source": [
        "formula1 <- Score ~ (1|Person)+(1|Item)"
      ],
      "metadata": {
        "id": "friVBn7JEOp7"
      },
      "execution_count": null,
      "outputs": []
    },
    {
      "cell_type": "markdown",
      "source": [
        "This formula is passed as an argument to the gstudy() function to determine\n",
        "the variance component estimates and the percentage of total variation for each term.\n",
        "\n",
        "variance components estimates and percentage of the total variation, are\n",
        "displayed in the fifth and sixth columns of Table 3. This portion of Table 3 may be obtained by typing g1$components. "
      ],
      "metadata": {
        "id": "9Dqxnu47Egpd"
      }
    },
    {
      "cell_type": "code",
      "source": [
        "g1 <- gstudy(data = pi_dat, formula1)\n",
        "g1$components"
      ],
      "metadata": {
        "colab": {
          "base_uri": "https://localhost:8080/",
          "height": 192
        },
        "id": "DZyzenrSEjXd",
        "outputId": "0e64a07c-e4c4-4aed-e577-c0efcdbf001b"
      },
      "execution_count": null,
      "outputs": [
        {
          "output_type": "display_data",
          "data": {
            "text/plain": [
              "  source   var      percent n\n",
              "1 Person   1.905558 26.4    1\n",
              "2 Item     4.027814 55.9    1\n",
              "3 Residual 1.277775 17.7    1"
            ],
            "text/latex": "A components: 3 × 4\n\\begin{tabular}{llll}\n source & var & percent & n\\\\\n <chr> & <dbl> & <dbl> & <dbl>\\\\\n\\hline\n\t Person   & 1.905558 & 26.4 & 1\\\\\n\t Item     & 4.027814 & 55.9 & 1\\\\\n\t Residual & 1.277775 & 17.7 & 1\\\\\n\\end{tabular}\n",
            "text/markdown": "\nA components: 3 × 4\n\n| source &lt;chr&gt; | var &lt;dbl&gt; | percent &lt;dbl&gt; | n &lt;dbl&gt; |\n|---|---|---|---|\n| Person   | 1.905558 | 26.4 | 1 |\n| Item     | 4.027814 | 55.9 | 1 |\n| Residual | 1.277775 | 17.7 | 1 |\n\n",
            "text/html": [
              "<table class=\"dataframe\">\n",
              "<caption>A components: 3 × 4</caption>\n",
              "<thead>\n",
              "\t<tr><th scope=col>source</th><th scope=col>var</th><th scope=col>percent</th><th scope=col>n</th></tr>\n",
              "\t<tr><th scope=col>&lt;chr&gt;</th><th scope=col>&lt;dbl&gt;</th><th scope=col>&lt;dbl&gt;</th><th scope=col>&lt;dbl&gt;</th></tr>\n",
              "</thead>\n",
              "<tbody>\n",
              "\t<tr><td>Person  </td><td>1.905558</td><td>26.4</td><td>1</td></tr>\n",
              "\t<tr><td>Item    </td><td>4.027814</td><td>55.9</td><td>1</td></tr>\n",
              "\t<tr><td>Residual</td><td>1.277775</td><td>17.7</td><td>1</td></tr>\n",
              "</tbody>\n",
              "</table>\n"
            ]
          },
          "metadata": {}
        }
      ]
    },
    {
      "cell_type": "markdown",
      "source": [
        "A D study can be performed by using the dstudy() function with the same formula.\n",
        "\n",
        "The object of measurement is always the person or group being measured, and the score is the numeric value of the measured variable. For this example, the results of the dstudy() function are stored in the variable d1.\n"
      ],
      "metadata": {
        "id": "04TJJTWGE-i3"
      }
    },
    {
      "cell_type": "code",
      "source": [
        "d1 <- dstudy(g1,colname.objects=\"Person\", colname.scores=\"Score\", data= pi_dat)\n",
        "\n",
        "d1$components\n",
        "\n",
        "d1$var.universe # universe score variance\n",
        "d1$var.error.rel # relative error variance\n",
        "d1$generalizability # g coefficient\n",
        "d1$dependability # dependability coefficient"
      ],
      "metadata": {
        "colab": {
          "base_uri": "https://localhost:8080/",
          "height": 262
        },
        "id": "8p11YAuZEljl",
        "outputId": "80f490d6-8738-423a-9491-9aad4747b72a"
      },
      "execution_count": null,
      "outputs": [
        {
          "output_type": "display_data",
          "data": {
            "text/plain": [
              "  source   var       percent n\n",
              "1 Person   1.9055579 59.0    1\n",
              "2 Item     1.0069535 31.2    4\n",
              "3 Residual 0.3194438  9.9    4"
            ],
            "text/latex": "A components: 3 × 4\n\\begin{tabular}{llll}\n source & var & percent & n\\\\\n <chr> & <dbl> & <dbl> & <dbl>\\\\\n\\hline\n\t Person   & 1.9055579 & 59.0 & 1\\\\\n\t Item     & 1.0069535 & 31.2 & 4\\\\\n\t Residual & 0.3194438 &  9.9 & 4\\\\\n\\end{tabular}\n",
            "text/markdown": "\nA components: 3 × 4\n\n| source &lt;chr&gt; | var &lt;dbl&gt; | percent &lt;dbl&gt; | n &lt;dbl&gt; |\n|---|---|---|---|\n| Person   | 1.9055579 | 59.0 | 1 |\n| Item     | 1.0069535 | 31.2 | 4 |\n| Residual | 0.3194438 |  9.9 | 4 |\n\n",
            "text/html": [
              "<table class=\"dataframe\">\n",
              "<caption>A components: 3 × 4</caption>\n",
              "<thead>\n",
              "\t<tr><th scope=col>source</th><th scope=col>var</th><th scope=col>percent</th><th scope=col>n</th></tr>\n",
              "\t<tr><th scope=col>&lt;chr&gt;</th><th scope=col>&lt;dbl&gt;</th><th scope=col>&lt;dbl&gt;</th><th scope=col>&lt;dbl&gt;</th></tr>\n",
              "</thead>\n",
              "<tbody>\n",
              "\t<tr><td>Person  </td><td>1.9055579</td><td>59.0</td><td>1</td></tr>\n",
              "\t<tr><td>Item    </td><td>1.0069535</td><td>31.2</td><td>4</td></tr>\n",
              "\t<tr><td>Residual</td><td>0.3194438</td><td> 9.9</td><td>4</td></tr>\n",
              "</tbody>\n",
              "</table>\n"
            ]
          },
          "metadata": {}
        },
        {
          "output_type": "display_data",
          "data": {
            "text/plain": [
              "[1] 1.905558"
            ],
            "text/latex": "1.90555788412497",
            "text/markdown": "1.90555788412497",
            "text/html": [
              "1.90555788412497"
            ]
          },
          "metadata": {}
        },
        {
          "output_type": "display_data",
          "data": {
            "text/plain": [
              "[1] 0.3194438"
            ],
            "text/latex": "0.319443823462306",
            "text/markdown": "0.319443823462306",
            "text/html": [
              "0.319443823462306"
            ]
          },
          "metadata": {}
        },
        {
          "output_type": "display_data",
          "data": {
            "text/plain": [
              "[1] 0.8564299"
            ],
            "text/latex": "0.856429852447753",
            "text/markdown": "0.856429852447753",
            "text/html": [
              "0.856429852447753"
            ]
          },
          "metadata": {}
        },
        {
          "output_type": "display_data",
          "data": {
            "text/plain": [
              "[1] 0.5895991"
            ],
            "text/latex": "0.589599101378703",
            "text/markdown": "0.589599101378703",
            "text/html": [
              "0.589599101378703"
            ]
          },
          "metadata": {}
        }
      ]
    },
    {
      "cell_type": "markdown",
      "source": [
        "To get estimates for different number of conditions\n",
        "\n",
        "It is important to note that as the value of 𝑛_i increases, the generalizability and dependability increase."
      ],
      "metadata": {
        "id": "3LnV6Il2GKOD"
      }
    },
    {
      "cell_type": "code",
      "source": [
        "# number of conditions \n",
        "n_i <- c(1,2,5,10)\n",
        "\n",
        "#relative error variance\n",
        "rel_err_var <- g1$components[3,2]/n_i\n",
        "\n",
        "#absolute error variance\n",
        "abs_err_var <-\n",
        "g1$components[2,2]/n_i+g1$components[3,\n",
        "2]/n_i\n",
        "\n",
        "#calculate generalizability coefficient\n",
        "gen_coef <-\n",
        "g1$components[1,2]/(g1$components[1,2]\n",
        "+ rel_err_var)\n",
        "\n",
        "#calculate dependability coefficient\n",
        "dep_coef <-\n",
        "g1$components[1,2]/(g1$components[1,2]\n",
        "+ abs_err_var)\n",
        "round(rel_err_var,2)\n",
        "round(abs_err_var,2)\n",
        "round(gen_coef,2)\n",
        "round(dep_coef,2) "
      ],
      "metadata": {
        "colab": {
          "base_uri": "https://localhost:8080/",
          "height": 86
        },
        "id": "msxx9qMHFPBy",
        "outputId": "fa8787c9-476e-4155-8fa5-112eba8b1e9c"
      },
      "execution_count": null,
      "outputs": [
        {
          "output_type": "display_data",
          "data": {
            "text/plain": [
              "[1] 1.28 0.64 0.26 0.13"
            ],
            "text/latex": "\\begin{enumerate*}\n\\item 1.28\n\\item 0.64\n\\item 0.26\n\\item 0.13\n\\end{enumerate*}\n",
            "text/markdown": "1. 1.28\n2. 0.64\n3. 0.26\n4. 0.13\n\n\n",
            "text/html": [
              "<style>\n",
              ".list-inline {list-style: none; margin:0; padding: 0}\n",
              ".list-inline>li {display: inline-block}\n",
              ".list-inline>li:not(:last-child)::after {content: \"\\00b7\"; padding: 0 .5ex}\n",
              "</style>\n",
              "<ol class=list-inline><li>1.28</li><li>0.64</li><li>0.26</li><li>0.13</li></ol>\n"
            ]
          },
          "metadata": {}
        },
        {
          "output_type": "display_data",
          "data": {
            "text/plain": [
              "[1] 5.31 2.65 1.06 0.53"
            ],
            "text/latex": "\\begin{enumerate*}\n\\item 5.31\n\\item 2.65\n\\item 1.06\n\\item 0.53\n\\end{enumerate*}\n",
            "text/markdown": "1. 5.31\n2. 2.65\n3. 1.06\n4. 0.53\n\n\n",
            "text/html": [
              "<style>\n",
              ".list-inline {list-style: none; margin:0; padding: 0}\n",
              ".list-inline>li {display: inline-block}\n",
              ".list-inline>li:not(:last-child)::after {content: \"\\00b7\"; padding: 0 .5ex}\n",
              "</style>\n",
              "<ol class=list-inline><li>5.31</li><li>2.65</li><li>1.06</li><li>0.53</li></ol>\n"
            ]
          },
          "metadata": {}
        },
        {
          "output_type": "display_data",
          "data": {
            "text/plain": [
              "[1] 0.60 0.75 0.88 0.94"
            ],
            "text/latex": "\\begin{enumerate*}\n\\item 0.6\n\\item 0.75\n\\item 0.88\n\\item 0.94\n\\end{enumerate*}\n",
            "text/markdown": "1. 0.6\n2. 0.75\n3. 0.88\n4. 0.94\n\n\n",
            "text/html": [
              "<style>\n",
              ".list-inline {list-style: none; margin:0; padding: 0}\n",
              ".list-inline>li {display: inline-block}\n",
              ".list-inline>li:not(:last-child)::after {content: \"\\00b7\"; padding: 0 .5ex}\n",
              "</style>\n",
              "<ol class=list-inline><li>0.6</li><li>0.75</li><li>0.88</li><li>0.94</li></ol>\n"
            ]
          },
          "metadata": {}
        },
        {
          "output_type": "display_data",
          "data": {
            "text/plain": [
              "[1] 0.26 0.42 0.64 0.78"
            ],
            "text/latex": "\\begin{enumerate*}\n\\item 0.26\n\\item 0.42\n\\item 0.64\n\\item 0.78\n\\end{enumerate*}\n",
            "text/markdown": "1. 0.26\n2. 0.42\n3. 0.64\n4. 0.78\n\n\n",
            "text/html": [
              "<style>\n",
              ".list-inline {list-style: none; margin:0; padding: 0}\n",
              ".list-inline>li {display: inline-block}\n",
              ".list-inline>li:not(:last-child)::after {content: \"\\00b7\"; padding: 0 .5ex}\n",
              "</style>\n",
              "<ol class=list-inline><li>0.26</li><li>0.42</li><li>0.64</li><li>0.78</li></ol>\n"
            ]
          },
          "metadata": {}
        }
      ]
    },
    {
      "cell_type": "markdown",
      "source": [
        "##Two Facet Deisgn\n",
        "\n",
        "The variance in a two-facet *p x i x o* design can be attributed to the seven variance components as shown in Table 1."
      ],
      "metadata": {
        "id": "N4is7jCGG_vq"
      }
    },
    {
      "cell_type": "code",
      "source": [
        "summary(aov(Score~Person*Item*Occasion, data = pio_cross_dat))"
      ],
      "metadata": {
        "id": "amHRWWRaHP6z",
        "colab": {
          "base_uri": "https://localhost:8080/",
          "height": 156
        },
        "outputId": "913c56e4-f35a-4347-89ce-8ef1ef99e671"
      },
      "execution_count": null,
      "outputs": [
        {
          "output_type": "display_data",
          "data": {
            "text/plain": [
              "                     Df Sum Sq Mean Sq\n",
              "Person                5 112.94   22.59\n",
              "Item                  3 117.90   39.30\n",
              "Occasion              1  15.19   15.19\n",
              "Person:Item          15  35.48    2.37\n",
              "Person:Occasion       5   5.94    1.19\n",
              "Item:Occasion         3   2.90    0.97\n",
              "Person:Item:Occasion 15  12.48    0.83"
            ]
          },
          "metadata": {}
        }
      ]
    },
    {
      "cell_type": "markdown",
      "source": [
        "Then, for the G study, the formula reflects the two-facet *p x i x o* crossed design.\n",
        "\n",
        "It is important to note that the interaction term for 𝑝𝑖𝑜 is not included because this is the error term for this design."
      ],
      "metadata": {
        "id": "VV1m7Qgq98zE"
      }
    },
    {
      "cell_type": "code",
      "source": [
        "formula2 <- Score ~(1|Person)+(1|Item)+(1|Occasion) + (1|Person:Item) + (1|Person:Occasion) + (1|Occasion:Item)\n",
        "g2 <- gstudy(data = pio_cross_dat,formula2)\n",
        "g2$components"
      ],
      "metadata": {
        "colab": {
          "base_uri": "https://localhost:8080/",
          "height": 318
        },
        "id": "a3KeYfqs-EjS",
        "outputId": "0cc47db5-66f2-4b1e-c93a-911748eb4b5a"
      },
      "execution_count": null,
      "outputs": [
        {
          "output_type": "display_data",
          "data": {
            "text/plain": [
              "  source          var        percent n\n",
              "1 Person:Item     0.76665688  9.8    1\n",
              "2 Person:Occasion 0.08889285  1.1    1\n",
              "3 Occasion:Item   0.02227409  0.3    1\n",
              "4 Person          2.48374310 31.7    1\n",
              "5 Item            3.06732106 39.1    1\n",
              "6 Occasion        0.57787462  7.4    1\n",
              "7 Residual        0.83186863 10.6    1"
            ],
            "text/latex": "A components: 7 × 4\n\\begin{tabular}{llll}\n source & var & percent & n\\\\\n <chr> & <dbl> & <dbl> & <dbl>\\\\\n\\hline\n\t Person:Item     & 0.76665688 &  9.8 & 1\\\\\n\t Person:Occasion & 0.08889285 &  1.1 & 1\\\\\n\t Occasion:Item   & 0.02227409 &  0.3 & 1\\\\\n\t Person          & 2.48374310 & 31.7 & 1\\\\\n\t Item            & 3.06732106 & 39.1 & 1\\\\\n\t Occasion        & 0.57787462 &  7.4 & 1\\\\\n\t Residual        & 0.83186863 & 10.6 & 1\\\\\n\\end{tabular}\n",
            "text/markdown": "\nA components: 7 × 4\n\n| source &lt;chr&gt; | var &lt;dbl&gt; | percent &lt;dbl&gt; | n &lt;dbl&gt; |\n|---|---|---|---|\n| Person:Item     | 0.76665688 |  9.8 | 1 |\n| Person:Occasion | 0.08889285 |  1.1 | 1 |\n| Occasion:Item   | 0.02227409 |  0.3 | 1 |\n| Person          | 2.48374310 | 31.7 | 1 |\n| Item            | 3.06732106 | 39.1 | 1 |\n| Occasion        | 0.57787462 |  7.4 | 1 |\n| Residual        | 0.83186863 | 10.6 | 1 |\n\n",
            "text/html": [
              "<table class=\"dataframe\">\n",
              "<caption>A components: 7 × 4</caption>\n",
              "<thead>\n",
              "\t<tr><th scope=col>source</th><th scope=col>var</th><th scope=col>percent</th><th scope=col>n</th></tr>\n",
              "\t<tr><th scope=col>&lt;chr&gt;</th><th scope=col>&lt;dbl&gt;</th><th scope=col>&lt;dbl&gt;</th><th scope=col>&lt;dbl&gt;</th></tr>\n",
              "</thead>\n",
              "<tbody>\n",
              "\t<tr><td>Person:Item    </td><td>0.76665688</td><td> 9.8</td><td>1</td></tr>\n",
              "\t<tr><td>Person:Occasion</td><td>0.08889285</td><td> 1.1</td><td>1</td></tr>\n",
              "\t<tr><td>Occasion:Item  </td><td>0.02227409</td><td> 0.3</td><td>1</td></tr>\n",
              "\t<tr><td>Person         </td><td>2.48374310</td><td>31.7</td><td>1</td></tr>\n",
              "\t<tr><td>Item           </td><td>3.06732106</td><td>39.1</td><td>1</td></tr>\n",
              "\t<tr><td>Occasion       </td><td>0.57787462</td><td> 7.4</td><td>1</td></tr>\n",
              "\t<tr><td>Residual       </td><td>0.83186863</td><td>10.6</td><td>1</td></tr>\n",
              "</tbody>\n",
              "</table>\n"
            ]
          },
          "metadata": {}
        }
      ]
    },
    {
      "cell_type": "markdown",
      "source": [
        "Then, the D study results are obtained similarly to the previous example"
      ],
      "metadata": {
        "id": "sHjx2Zf5-nOL"
      }
    },
    {
      "cell_type": "code",
      "source": [
        "d2 <- dstudy(g2,colname.objects=\"Person\", colname.scores=\"Score\",data=pio_cross_dat)\n",
        "d2"
      ],
      "metadata": {
        "colab": {
          "base_uri": "https://localhost:8080/",
          "height": 675
        },
        "id": "3ZH5AdBf-pto",
        "outputId": "55399eb4-4c93-46fa-9175-88d26fb2e93a"
      },
      "execution_count": null,
      "outputs": [
        {
          "output_type": "display_data",
          "data": {
            "text/plain": [
              "$components\n",
              "           source         var percent n\n",
              "1     Person:Item 0.191664219     4.9 4\n",
              "2 Person:Occasion 0.044446425     1.1 2\n",
              "3   Occasion:Item 0.002784261     0.1 8\n",
              "4          Person 2.483743102    64.0 1\n",
              "5            Item 0.766830266    19.8 4\n",
              "6        Occasion 0.288937312     7.4 2\n",
              "7        Residual 0.103983578     2.7 8\n",
              "\n",
              "$var.universe\n",
              "[1] 2.483743\n",
              "\n",
              "$generalizability\n",
              "[1] 0.8795631\n",
              "\n",
              "$var.error.rel\n",
              "[1] 0.3400942\n",
              "\n",
              "$sem.rel\n",
              "[1] 0.583176\n",
              "\n",
              "$see.rel\n",
              "[1] 0.5469317\n",
              "\n",
              "$dependability\n",
              "[1] 0.639746\n",
              "\n",
              "$var.error.abs\n",
              "[1] 1.398646\n",
              "\n",
              "$sem.abs\n",
              "[1] 1.182644\n",
              "\n",
              "$see.abs\n",
              "[1] 0.9459272\n",
              "\n",
              "attr(,\"class\")\n",
              "[1] \"dstudy\" \"list\"  "
            ],
            "text/latex": "\\begin{description}\n\\item[\\$components] A components: 7 × 4\n\\begin{tabular}{llll}\n source & var & percent & n\\\\\n <chr> & <dbl> & <dbl> & <dbl>\\\\\n\\hline\n\t Person:Item     & 0.191664219 &  4.9 & 4\\\\\n\t Person:Occasion & 0.044446425 &  1.1 & 2\\\\\n\t Occasion:Item   & 0.002784261 &  0.1 & 8\\\\\n\t Person          & 2.483743102 & 64.0 & 1\\\\\n\t Item            & 0.766830266 & 19.8 & 4\\\\\n\t Occasion        & 0.288937312 &  7.4 & 2\\\\\n\t Residual        & 0.103983578 &  2.7 & 8\\\\\n\\end{tabular}\n\n\\item[\\$var.universe] 2.483743102216\n\\item[\\$generalizability] 0.87956309669223\n\\item[\\$var.error.rel] 0.340094222879386\n\\item[\\$sem.rel] 0.583175979340187\n\\item[\\$see.rel] 0.54693173965581\n\\item[\\$dependability] 0.639746042221592\n\\item[\\$var.error.abs] 1.39864606207006\n\\item[\\$sem.abs] 1.18264367502222\n\\item[\\$see.abs] 0.945927207917255\n\\end{description}\n",
            "text/markdown": "$components\n:   \nA components: 7 × 4\n\n| source &lt;chr&gt; | var &lt;dbl&gt; | percent &lt;dbl&gt; | n &lt;dbl&gt; |\n|---|---|---|---|\n| Person:Item     | 0.191664219 |  4.9 | 4 |\n| Person:Occasion | 0.044446425 |  1.1 | 2 |\n| Occasion:Item   | 0.002784261 |  0.1 | 8 |\n| Person          | 2.483743102 | 64.0 | 1 |\n| Item            | 0.766830266 | 19.8 | 4 |\n| Occasion        | 0.288937312 |  7.4 | 2 |\n| Residual        | 0.103983578 |  2.7 | 8 |\n\n\n$var.universe\n:   2.483743102216\n$generalizability\n:   0.87956309669223\n$var.error.rel\n:   0.340094222879386\n$sem.rel\n:   0.583175979340187\n$see.rel\n:   0.54693173965581\n$dependability\n:   0.639746042221592\n$var.error.abs\n:   1.39864606207006\n$sem.abs\n:   1.18264367502222\n$see.abs\n:   0.945927207917255\n\n\n",
            "text/html": [
              "<dl>\n",
              "\t<dt>$components</dt>\n",
              "\t\t<dd><table class=\"dataframe\">\n",
              "<caption>A components: 7 × 4</caption>\n",
              "<thead>\n",
              "\t<tr><th scope=col>source</th><th scope=col>var</th><th scope=col>percent</th><th scope=col>n</th></tr>\n",
              "\t<tr><th scope=col>&lt;chr&gt;</th><th scope=col>&lt;dbl&gt;</th><th scope=col>&lt;dbl&gt;</th><th scope=col>&lt;dbl&gt;</th></tr>\n",
              "</thead>\n",
              "<tbody>\n",
              "\t<tr><td>Person:Item    </td><td>0.191664219</td><td> 4.9</td><td>4</td></tr>\n",
              "\t<tr><td>Person:Occasion</td><td>0.044446425</td><td> 1.1</td><td>2</td></tr>\n",
              "\t<tr><td>Occasion:Item  </td><td>0.002784261</td><td> 0.1</td><td>8</td></tr>\n",
              "\t<tr><td>Person         </td><td>2.483743102</td><td>64.0</td><td>1</td></tr>\n",
              "\t<tr><td>Item           </td><td>0.766830266</td><td>19.8</td><td>4</td></tr>\n",
              "\t<tr><td>Occasion       </td><td>0.288937312</td><td> 7.4</td><td>2</td></tr>\n",
              "\t<tr><td>Residual       </td><td>0.103983578</td><td> 2.7</td><td>8</td></tr>\n",
              "</tbody>\n",
              "</table>\n",
              "</dd>\n",
              "\t<dt>$var.universe</dt>\n",
              "\t\t<dd>2.483743102216</dd>\n",
              "\t<dt>$generalizability</dt>\n",
              "\t\t<dd>0.87956309669223</dd>\n",
              "\t<dt>$var.error.rel</dt>\n",
              "\t\t<dd>0.340094222879386</dd>\n",
              "\t<dt>$sem.rel</dt>\n",
              "\t\t<dd>0.583175979340187</dd>\n",
              "\t<dt>$see.rel</dt>\n",
              "\t\t<dd>0.54693173965581</dd>\n",
              "\t<dt>$dependability</dt>\n",
              "\t\t<dd>0.639746042221592</dd>\n",
              "\t<dt>$var.error.abs</dt>\n",
              "\t\t<dd>1.39864606207006</dd>\n",
              "\t<dt>$sem.abs</dt>\n",
              "\t\t<dd>1.18264367502222</dd>\n",
              "\t<dt>$see.abs</dt>\n",
              "\t\t<dd>0.945927207917255</dd>\n",
              "</dl>\n"
            ]
          },
          "metadata": {}
        }
      ]
    },
    {
      "cell_type": "markdown",
      "source": [
        "Alternative values of n_i and n_o can be determined by"
      ],
      "metadata": {
        "id": "oS5nINaS_K-j"
      }
    },
    {
      "cell_type": "code",
      "source": [
        "n_i <- c(1,2,3,4,5)\n",
        "n_o <- c(1,2,3,3,3)\n",
        "\n",
        "#relative error variance\n",
        "rel_err_var <- g2$components[1,2]/n_i + g2$components[2,2] / n_o +g2$components[7,2]/(n_i*n_o)\n",
        "\n",
        "#calculate generalizability coefficient\n",
        "gen_coef <- g2$components[4,2]/(g2$components[4,2] + rel_err_var) \n",
        "\n",
        "round(rel_err_var,2) \n",
        "round(gen_coef,2)"
      ],
      "metadata": {
        "colab": {
          "base_uri": "https://localhost:8080/",
          "height": 52
        },
        "id": "FpW-GNkG_MhK",
        "outputId": "4706d40b-ed32-4de6-d044-c292115bf270"
      },
      "execution_count": null,
      "outputs": [
        {
          "output_type": "display_data",
          "data": {
            "text/plain": [
              "[1] 1.69 0.64 0.38 0.29 0.24"
            ],
            "text/latex": "\\begin{enumerate*}\n\\item 1.69\n\\item 0.64\n\\item 0.38\n\\item 0.29\n\\item 0.24\n\\end{enumerate*}\n",
            "text/markdown": "1. 1.69\n2. 0.64\n3. 0.38\n4. 0.29\n5. 0.24\n\n\n",
            "text/html": [
              "<style>\n",
              ".list-inline {list-style: none; margin:0; padding: 0}\n",
              ".list-inline>li {display: inline-block}\n",
              ".list-inline>li:not(:last-child)::after {content: \"\\00b7\"; padding: 0 .5ex}\n",
              "</style>\n",
              "<ol class=list-inline><li>1.69</li><li>0.64</li><li>0.38</li><li>0.29</li><li>0.24</li></ol>\n"
            ]
          },
          "metadata": {}
        },
        {
          "output_type": "display_data",
          "data": {
            "text/plain": [
              "[1] 0.60 0.80 0.87 0.90 0.91"
            ],
            "text/latex": "\\begin{enumerate*}\n\\item 0.6\n\\item 0.8\n\\item 0.87\n\\item 0.9\n\\item 0.91\n\\end{enumerate*}\n",
            "text/markdown": "1. 0.6\n2. 0.8\n3. 0.87\n4. 0.9\n5. 0.91\n\n\n",
            "text/html": [
              "<style>\n",
              ".list-inline {list-style: none; margin:0; padding: 0}\n",
              ".list-inline>li {display: inline-block}\n",
              ".list-inline>li:not(:last-child)::after {content: \"\\00b7\"; padding: 0 .5ex}\n",
              "</style>\n",
              "<ol class=list-inline><li>0.6</li><li>0.8</li><li>0.87</li><li>0.9</li><li>0.91</li></ol>\n"
            ]
          },
          "metadata": {}
        }
      ]
    },
    {
      "cell_type": "markdown",
      "source": [
        "# Nested designs\n",
        "\n",
        "\n",
        "---\n"
      ],
      "metadata": {
        "id": "VYvam7-PALju"
      }
    },
    {
      "cell_type": "markdown",
      "source": [
        "##Single Facet Design"
      ],
      "metadata": {
        "id": "hwaeUs-MAQOO"
      }
    },
    {
      "cell_type": "markdown",
      "source": [
        "In one-facet 𝒊:𝒑 designs, when heteroskedasticity is present, the variance of the estimated regression coefficients becomes the following. \n",
        "\n",
        "Note, the nested facet follows the forward slash, and this ensures this component is included in the residual. For this simple example, this produces the same results as when the Item facet is excluded from the formula since the 𝑝𝑖 interaction is part of the residual.\n"
      ],
      "metadata": {
        "id": "COurkAILAVZP"
      }
    },
    {
      "cell_type": "code",
      "source": [
        "summary(aov(Score~(Person/Item),data = pi_dat)) "
      ],
      "metadata": {
        "colab": {
          "base_uri": "https://localhost:8080/",
          "height": 69
        },
        "id": "S7BVHX_eATiA",
        "outputId": "761f39d6-16c3-4a8e-dea1-085c6492dfb6"
      },
      "execution_count": null,
      "outputs": [
        {
          "output_type": "display_data",
          "data": {
            "text/plain": [
              "            Df Sum Sq Mean Sq\n",
              "Person       5   44.5   8.900\n",
              "Person:Item 18   95.5   5.306"
            ]
          },
          "metadata": {}
        }
      ]
    },
    {
      "cell_type": "code",
      "source": [
        "formula3 <- Score ~ (1|Person) \n",
        "g3 <- gstudy(data = pi_dat, formula3) \n",
        "g3"
      ],
      "metadata": {
        "colab": {
          "base_uri": "https://localhost:8080/",
          "height": 178
        },
        "id": "niBvEeA-Am8o",
        "outputId": "53e97d62-15ab-4b17-b6e1-55a71d3473ec"
      },
      "execution_count": null,
      "outputs": [
        {
          "output_type": "display_data",
          "data": {
            "text/plain": [
              "$components\n",
              "    source       var percent n\n",
              "1   Person 0.8986111    14.5 1\n",
              "2 Residual 5.3055556    85.5 1\n",
              "\n",
              "attr(,\"class\")\n",
              "[1] \"gstudy\" \"list\"  "
            ],
            "text/latex": "\\textbf{\\$components} = A components: 2 × 4\n\\begin{tabular}{llll}\n source & var & percent & n\\\\\n <chr> & <dbl> & <dbl> & <dbl>\\\\\n\\hline\n\t Person   & 0.8986111 & 14.5 & 1\\\\\n\t Residual & 5.3055556 & 85.5 & 1\\\\\n\\end{tabular}\n",
            "text/markdown": "**$components** = \nA components: 2 × 4\n\n| source &lt;chr&gt; | var &lt;dbl&gt; | percent &lt;dbl&gt; | n &lt;dbl&gt; |\n|---|---|---|---|\n| Person   | 0.8986111 | 14.5 | 1 |\n| Residual | 5.3055556 | 85.5 | 1 |\n\n",
            "text/html": [
              "<strong>$components</strong> = <table class=\"dataframe\">\n",
              "<caption>A components: 2 × 4</caption>\n",
              "<thead>\n",
              "\t<tr><th scope=col>source</th><th scope=col>var</th><th scope=col>percent</th><th scope=col>n</th></tr>\n",
              "\t<tr><th scope=col>&lt;chr&gt;</th><th scope=col>&lt;dbl&gt;</th><th scope=col>&lt;dbl&gt;</th><th scope=col>&lt;dbl&gt;</th></tr>\n",
              "</thead>\n",
              "<tbody>\n",
              "\t<tr><td>Person  </td><td>0.8986111</td><td>14.5</td><td>1</td></tr>\n",
              "\t<tr><td>Residual</td><td>5.3055556</td><td>85.5</td><td>1</td></tr>\n",
              "</tbody>\n",
              "</table>\n"
            ]
          },
          "metadata": {}
        }
      ]
    },
    {
      "cell_type": "markdown",
      "source": [
        "##Two Facet Design"
      ],
      "metadata": {
        "id": "nLKLJ52XBINm"
      }
    },
    {
      "cell_type": "markdown",
      "source": [
        "Two-facet p x (i:o) design. \n",
        "Notice that the nested syntax is once again used in the aov() function; Item\n",
        "follows the forward slash because it is nested within Occasion. We see the same syntax for nesting Item within Occasion in the G-study."
      ],
      "metadata": {
        "id": "bwxKUW8gBK_R"
      }
    },
    {
      "cell_type": "code",
      "source": [
        "summary(aov(Score~Person*(Occasion/Item), data = pio_nest_dat))"
      ],
      "metadata": {
        "colab": {
          "base_uri": "https://localhost:8080/",
          "height": 121
        },
        "id": "K0BUn9VbBU3f",
        "outputId": "038fc624-1f02-4401-a704-cec4a8a57229"
      },
      "execution_count": null,
      "outputs": [
        {
          "output_type": "display_data",
          "data": {
            "text/plain": [
              "                     Df Sum Sq Mean Sq\n",
              "Person                5  56.88   11.38\n",
              "Occasion              1  92.04   92.04\n",
              "Occasion:Item         2   7.42    3.71\n",
              "Person:Occasion       5  13.21    2.64\n",
              "Person:Occasion:Item 10   7.08    0.71"
            ]
          },
          "metadata": {}
        }
      ]
    },
    {
      "cell_type": "markdown",
      "source": [
        "The estimated variance components and percent of total variation are shown in columns below. "
      ],
      "metadata": {
        "id": "QIUUIxNpB1Kp"
      }
    },
    {
      "cell_type": "code",
      "source": [
        "formula4 <- Score ~ (1|Person)+(1|Person:Occasion)+ (1|Occasion/Item)\n",
        "g4 <- gstudy(data = pio_nest_dat, formula4) \n",
        "g4\n"
      ],
      "metadata": {
        "colab": {
          "base_uri": "https://localhost:8080/",
          "height": 272
        },
        "id": "0WWTj2lkBWac",
        "outputId": "79ed23e7-65e9-4afb-f259-6e803df87347"
      },
      "execution_count": null,
      "outputs": [
        {
          "output_type": "display_data",
          "data": {
            "text/plain": [
              "$components\n",
              "           source       var percent n\n",
              "1 Person:Occasion 0.9666216     8.4 1\n",
              "2          Person 2.1834142    18.9 1\n",
              "3   Item:Occasion 0.5000032     4.3 1\n",
              "4        Occasion 7.1986931    62.3 1\n",
              "5        Residual 0.7083468     6.1 1\n",
              "\n",
              "attr(,\"class\")\n",
              "[1] \"gstudy\" \"list\"  "
            ],
            "text/latex": "\\textbf{\\$components} = A components: 5 × 4\n\\begin{tabular}{llll}\n source & var & percent & n\\\\\n <chr> & <dbl> & <dbl> & <dbl>\\\\\n\\hline\n\t Person:Occasion & 0.9666216 &  8.4 & 1\\\\\n\t Person          & 2.1834142 & 18.9 & 1\\\\\n\t Item:Occasion   & 0.5000032 &  4.3 & 1\\\\\n\t Occasion        & 7.1986931 & 62.3 & 1\\\\\n\t Residual        & 0.7083468 &  6.1 & 1\\\\\n\\end{tabular}\n",
            "text/markdown": "**$components** = \nA components: 5 × 4\n\n| source &lt;chr&gt; | var &lt;dbl&gt; | percent &lt;dbl&gt; | n &lt;dbl&gt; |\n|---|---|---|---|\n| Person:Occasion | 0.9666216 |  8.4 | 1 |\n| Person          | 2.1834142 | 18.9 | 1 |\n| Item:Occasion   | 0.5000032 |  4.3 | 1 |\n| Occasion        | 7.1986931 | 62.3 | 1 |\n| Residual        | 0.7083468 |  6.1 | 1 |\n\n",
            "text/html": [
              "<strong>$components</strong> = <table class=\"dataframe\">\n",
              "<caption>A components: 5 × 4</caption>\n",
              "<thead>\n",
              "\t<tr><th scope=col>source</th><th scope=col>var</th><th scope=col>percent</th><th scope=col>n</th></tr>\n",
              "\t<tr><th scope=col>&lt;chr&gt;</th><th scope=col>&lt;dbl&gt;</th><th scope=col>&lt;dbl&gt;</th><th scope=col>&lt;dbl&gt;</th></tr>\n",
              "</thead>\n",
              "<tbody>\n",
              "\t<tr><td>Person:Occasion</td><td>0.9666216</td><td> 8.4</td><td>1</td></tr>\n",
              "\t<tr><td>Person         </td><td>2.1834142</td><td>18.9</td><td>1</td></tr>\n",
              "\t<tr><td>Item:Occasion  </td><td>0.5000032</td><td> 4.3</td><td>1</td></tr>\n",
              "\t<tr><td>Occasion       </td><td>7.1986931</td><td>62.3</td><td>1</td></tr>\n",
              "\t<tr><td>Residual       </td><td>0.7083468</td><td> 6.1</td><td>1</td></tr>\n",
              "</tbody>\n",
              "</table>\n"
            ]
          },
          "metadata": {}
        }
      ]
    },
    {
      "cell_type": "code",
      "source": [
        "d4 <- dstudy(g4, colname.objects=\"Person\", colname.scores=\"Score\", data = pio_nest_dat) \n",
        "d4"
      ],
      "metadata": {
        "colab": {
          "base_uri": "https://localhost:8080/",
          "height": 613
        },
        "id": "5C4IHvPIB9Di",
        "outputId": "c97598f7-a761-43c6-bc02-c35c3fdd1550"
      },
      "execution_count": null,
      "outputs": [
        {
          "output_type": "display_data",
          "data": {
            "text/plain": [
              "$components\n",
              "           source       var percent n\n",
              "1 Person:Occasion 0.4833108     7.4 2\n",
              "2          Person 2.1834142    33.2 1\n",
              "3   Item:Occasion 0.1250008     1.9 4\n",
              "4        Occasion 3.5993465    54.8 2\n",
              "5        Residual 0.1770867     2.7 4\n",
              "\n",
              "$var.universe\n",
              "[1] 2.183414\n",
              "\n",
              "$generalizability\n",
              "[1] 0.7677773\n",
              "\n",
              "$var.error.rel\n",
              "[1] 0.6603975\n",
              "\n",
              "$sem.rel\n",
              "[1] 0.8126485\n",
              "\n",
              "$see.rel\n",
              "[1] 0.7120662\n",
              "\n",
              "$dependability\n",
              "[1] 0.3324241\n",
              "\n",
              "$var.error.abs\n",
              "[1] 4.384745\n",
              "\n",
              "$sem.abs\n",
              "[1] 2.093978\n",
              "\n",
              "$see.abs\n",
              "[1] 1.207309\n",
              "\n",
              "attr(,\"class\")\n",
              "[1] \"dstudy\" \"list\"  "
            ],
            "text/latex": "\\begin{description}\n\\item[\\$components] A components: 5 × 4\n\\begin{tabular}{llll}\n source & var & percent & n\\\\\n <chr> & <dbl> & <dbl> & <dbl>\\\\\n\\hline\n\t Person:Occasion & 0.4833108 &  7.4 & 2\\\\\n\t Person          & 2.1834142 & 33.2 & 1\\\\\n\t Item:Occasion   & 0.1250008 &  1.9 & 4\\\\\n\t Occasion        & 3.5993465 & 54.8 & 2\\\\\n\t Residual        & 0.1770867 &  2.7 & 4\\\\\n\\end{tabular}\n\n\\item[\\$var.universe] 2.18341418784792\n\\item[\\$generalizability] 0.767777341651124\n\\item[\\$var.error.rel] 0.660397513018943\n\\item[\\$sem.rel] 0.812648455987546\n\\item[\\$see.rel] 0.712066181600206\n\\item[\\$dependability] 0.33242407475481\n\\item[\\$var.error.abs] 4.3847448405208\n\\item[\\$sem.abs] 2.09397823305802\n\\item[\\$see.abs] 1.2073088861787\n\\end{description}\n",
            "text/markdown": "$components\n:   \nA components: 5 × 4\n\n| source &lt;chr&gt; | var &lt;dbl&gt; | percent &lt;dbl&gt; | n &lt;dbl&gt; |\n|---|---|---|---|\n| Person:Occasion | 0.4833108 |  7.4 | 2 |\n| Person          | 2.1834142 | 33.2 | 1 |\n| Item:Occasion   | 0.1250008 |  1.9 | 4 |\n| Occasion        | 3.5993465 | 54.8 | 2 |\n| Residual        | 0.1770867 |  2.7 | 4 |\n\n\n$var.universe\n:   2.18341418784792\n$generalizability\n:   0.767777341651124\n$var.error.rel\n:   0.660397513018943\n$sem.rel\n:   0.812648455987546\n$see.rel\n:   0.712066181600206\n$dependability\n:   0.33242407475481\n$var.error.abs\n:   4.3847448405208\n$sem.abs\n:   2.09397823305802\n$see.abs\n:   1.2073088861787\n\n\n",
            "text/html": [
              "<dl>\n",
              "\t<dt>$components</dt>\n",
              "\t\t<dd><table class=\"dataframe\">\n",
              "<caption>A components: 5 × 4</caption>\n",
              "<thead>\n",
              "\t<tr><th scope=col>source</th><th scope=col>var</th><th scope=col>percent</th><th scope=col>n</th></tr>\n",
              "\t<tr><th scope=col>&lt;chr&gt;</th><th scope=col>&lt;dbl&gt;</th><th scope=col>&lt;dbl&gt;</th><th scope=col>&lt;dbl&gt;</th></tr>\n",
              "</thead>\n",
              "<tbody>\n",
              "\t<tr><td>Person:Occasion</td><td>0.4833108</td><td> 7.4</td><td>2</td></tr>\n",
              "\t<tr><td>Person         </td><td>2.1834142</td><td>33.2</td><td>1</td></tr>\n",
              "\t<tr><td>Item:Occasion  </td><td>0.1250008</td><td> 1.9</td><td>4</td></tr>\n",
              "\t<tr><td>Occasion       </td><td>3.5993465</td><td>54.8</td><td>2</td></tr>\n",
              "\t<tr><td>Residual       </td><td>0.1770867</td><td> 2.7</td><td>4</td></tr>\n",
              "</tbody>\n",
              "</table>\n",
              "</dd>\n",
              "\t<dt>$var.universe</dt>\n",
              "\t\t<dd>2.18341418784792</dd>\n",
              "\t<dt>$generalizability</dt>\n",
              "\t\t<dd>0.767777341651124</dd>\n",
              "\t<dt>$var.error.rel</dt>\n",
              "\t\t<dd>0.660397513018943</dd>\n",
              "\t<dt>$sem.rel</dt>\n",
              "\t\t<dd>0.812648455987546</dd>\n",
              "\t<dt>$see.rel</dt>\n",
              "\t\t<dd>0.712066181600206</dd>\n",
              "\t<dt>$dependability</dt>\n",
              "\t\t<dd>0.33242407475481</dd>\n",
              "\t<dt>$var.error.abs</dt>\n",
              "\t\t<dd>4.3847448405208</dd>\n",
              "\t<dt>$sem.abs</dt>\n",
              "\t\t<dd>2.09397823305802</dd>\n",
              "\t<dt>$see.abs</dt>\n",
              "\t\t<dd>1.2073088861787</dd>\n",
              "</dl>\n"
            ]
          },
          "metadata": {}
        }
      ]
    },
    {
      "cell_type": "markdown",
      "source": [
        "See Table 11 in the [article](https://scholarworks.umass.edu/cgi/viewcontent.cgi?article=1337&context=pare) Two-facet nested designs and their formulas."
      ],
      "metadata": {
        "id": "MiUseswUCSYo"
      }
    },
    {
      "cell_type": "markdown",
      "source": [
        ""
      ],
      "metadata": {
        "id": "R95Mlvz_CocT"
      }
    },
    {
      "cell_type": "markdown",
      "source": [
        "# Plotting\n"
      ],
      "metadata": {
        "id": "GagGlhgSCo8S"
      }
    },
    {
      "cell_type": "code",
      "source": [
        "n_prime <- 1:25\n",
        "\n",
        "#relative error variance\n",
        "rel_err_var <- g1$components[3,2]/n_prime\n",
        "\n",
        "#absolute error variance\n",
        "abs_err_var <- g1$components[2,2]/n_prime + g1$components[3,2]/n_prime\n",
        "\n",
        "#calculate generalizability coefficient\n",
        "gen_coef <- g1$components[1,2]/(g1$components[1,2] + rel_err_var)\n",
        "\n",
        "#calculate dependability coefficient\n",
        "dep_coef <- g1$components[1,2]/(g1$components[1,2] + abs_err_var)"
      ],
      "metadata": {
        "id": "SkNlTwuPCsVY"
      },
      "execution_count": null,
      "outputs": []
    },
    {
      "cell_type": "code",
      "source": [
        "library(ggplot2)\n",
        "label1 <- \"rho\"\n",
        "label2 <- \"phi\"\n",
        "\n",
        "ggplot(data.frame(x=n_prime,y=gen_coef, label=label1)) +\n",
        "geom_text(aes(n_prime,gen_coef,label=label1), parse=TRUE) +\n",
        "geom_text(aes(n_prime,dep_coef,label=label2), parse=TRUE) +\n",
        "ggtitle(\"Plot\") + xlab(\"D Study Sample Sizes\") + ylab(\"Cofficient\")"
      ],
      "metadata": {
        "colab": {
          "base_uri": "https://localhost:8080/",
          "height": 437
        },
        "id": "WKfqyJPlCvJg",
        "outputId": "48ecc815-5a45-4dc9-f4d6-938f09422c8b"
      },
      "execution_count": null,
      "outputs": [
        {
          "output_type": "display_data",
          "data": {
            "image/png": "[encoded data removed]",
            "text/plain": [
              "plot without title"
            ]
          },
          "metadata": {
            "image/png": {
              "width": 420,
              "height": 420
            }
          }
        }
      ]
    },
    {
      "cell_type": "markdown",
      "source": [
        "# Formatting the data - long not wide"
      ],
      "metadata": {
        "id": "lv-O6y3RDVrz"
      }
    },
    {
      "cell_type": "markdown",
      "source": [
        "The data sets here are formatted in “long” form, which is required by the functions in the gtheory package. In contrast, many times G-theory example data sets (as well as data for other reliability methods such as the intra-class correlation coefficient) are arranged in “wide” form.\n",
        "\n",
        "In this case, the Item variable is moved from being one column for each item score (wide) to item number being its own column and score being another column (long).\n",
        "\n",
        "The code below creates the wide form version (To run the example, make sure to have the original pio_cross_dat read in first):"
      ],
      "metadata": {
        "id": "TlS76ho6DcyQ"
      }
    },
    {
      "cell_type": "code",
      "source": [
        "library(tidyr)\n",
        "pio_cross_dat_wide <- spread(pio_cross_dat,Item,Score)\n",
        "pio_cross_dat_wide"
      ],
      "metadata": {
        "colab": {
          "base_uri": "https://localhost:8080/",
          "height": 474
        },
        "id": "6ao4aoY2DYqB",
        "outputId": "526129ff-c528-48d8-f599-7c816ac87a59"
      },
      "execution_count": null,
      "outputs": [
        {
          "output_type": "display_data",
          "data": {
            "text/plain": [
              "   Person Occasion 1  2 3 4\n",
              "1  1      1         9 9 7 4\n",
              "2  1      2         9 8 5 5\n",
              "3  2      1         9 8 4 6\n",
              "4  2      2         6 5 3 3\n",
              "5  3      1         8 8 6 2\n",
              "6  3      2         8 7 3 2\n",
              "7  4      1         9 8 6 3\n",
              "8  4      2         9 6 6 2\n",
              "9  5      1        10 9 8 7\n",
              "10 5      2         8 8 9 7\n",
              "11 6      1         6 4 5 1\n",
              "12 6      2         3 2 3 2"
            ],
            "text/latex": "A data.frame: 12 × 6\n\\begin{tabular}{llllll}\n Person & Occasion & 1 & 2 & 3 & 4\\\\\n <fct> & <fct> & <dbl> & <dbl> & <dbl> & <dbl>\\\\\n\\hline\n\t 1 & 1 &  9 & 9 & 7 & 4\\\\\n\t 1 & 2 &  9 & 8 & 5 & 5\\\\\n\t 2 & 1 &  9 & 8 & 4 & 6\\\\\n\t 2 & 2 &  6 & 5 & 3 & 3\\\\\n\t 3 & 1 &  8 & 8 & 6 & 2\\\\\n\t 3 & 2 &  8 & 7 & 3 & 2\\\\\n\t 4 & 1 &  9 & 8 & 6 & 3\\\\\n\t 4 & 2 &  9 & 6 & 6 & 2\\\\\n\t 5 & 1 & 10 & 9 & 8 & 7\\\\\n\t 5 & 2 &  8 & 8 & 9 & 7\\\\\n\t 6 & 1 &  6 & 4 & 5 & 1\\\\\n\t 6 & 2 &  3 & 2 & 3 & 2\\\\\n\\end{tabular}\n",
            "text/markdown": "\nA data.frame: 12 × 6\n\n| Person &lt;fct&gt; | Occasion &lt;fct&gt; | 1 &lt;dbl&gt; | 2 &lt;dbl&gt; | 3 &lt;dbl&gt; | 4 &lt;dbl&gt; |\n|---|---|---|---|---|---|\n| 1 | 1 |  9 | 9 | 7 | 4 |\n| 1 | 2 |  9 | 8 | 5 | 5 |\n| 2 | 1 |  9 | 8 | 4 | 6 |\n| 2 | 2 |  6 | 5 | 3 | 3 |\n| 3 | 1 |  8 | 8 | 6 | 2 |\n| 3 | 2 |  8 | 7 | 3 | 2 |\n| 4 | 1 |  9 | 8 | 6 | 3 |\n| 4 | 2 |  9 | 6 | 6 | 2 |\n| 5 | 1 | 10 | 9 | 8 | 7 |\n| 5 | 2 |  8 | 8 | 9 | 7 |\n| 6 | 1 |  6 | 4 | 5 | 1 |\n| 6 | 2 |  3 | 2 | 3 | 2 |\n\n",
            "text/html": [
              "<table class=\"dataframe\">\n",
              "<caption>A data.frame: 12 × 6</caption>\n",
              "<thead>\n",
              "\t<tr><th scope=col>Person</th><th scope=col>Occasion</th><th scope=col>1</th><th scope=col>2</th><th scope=col>3</th><th scope=col>4</th></tr>\n",
              "\t<tr><th scope=col>&lt;fct&gt;</th><th scope=col>&lt;fct&gt;</th><th scope=col>&lt;dbl&gt;</th><th scope=col>&lt;dbl&gt;</th><th scope=col>&lt;dbl&gt;</th><th scope=col>&lt;dbl&gt;</th></tr>\n",
              "</thead>\n",
              "<tbody>\n",
              "\t<tr><td>1</td><td>1</td><td> 9</td><td>9</td><td>7</td><td>4</td></tr>\n",
              "\t<tr><td>1</td><td>2</td><td> 9</td><td>8</td><td>5</td><td>5</td></tr>\n",
              "\t<tr><td>2</td><td>1</td><td> 9</td><td>8</td><td>4</td><td>6</td></tr>\n",
              "\t<tr><td>2</td><td>2</td><td> 6</td><td>5</td><td>3</td><td>3</td></tr>\n",
              "\t<tr><td>3</td><td>1</td><td> 8</td><td>8</td><td>6</td><td>2</td></tr>\n",
              "\t<tr><td>3</td><td>2</td><td> 8</td><td>7</td><td>3</td><td>2</td></tr>\n",
              "\t<tr><td>4</td><td>1</td><td> 9</td><td>8</td><td>6</td><td>3</td></tr>\n",
              "\t<tr><td>4</td><td>2</td><td> 9</td><td>6</td><td>6</td><td>2</td></tr>\n",
              "\t<tr><td>5</td><td>1</td><td>10</td><td>9</td><td>8</td><td>7</td></tr>\n",
              "\t<tr><td>5</td><td>2</td><td> 8</td><td>8</td><td>9</td><td>7</td></tr>\n",
              "\t<tr><td>6</td><td>1</td><td> 6</td><td>4</td><td>5</td><td>1</td></tr>\n",
              "\t<tr><td>6</td><td>2</td><td> 3</td><td>2</td><td>3</td><td>2</td></tr>\n",
              "</tbody>\n",
              "</table>\n"
            ]
          },
          "metadata": {}
        }
      ]
    },
    {
      "cell_type": "markdown",
      "source": [
        "And now back to long format (what you actually need)"
      ],
      "metadata": {
        "id": "JaZL4RTBEDLJ"
      }
    },
    {
      "cell_type": "code",
      "source": [
        "gather(pio_cross_dat_wide, key=Item, value=Score,'1','2','3','4', factor_key = TRUE) "
      ],
      "metadata": {
        "colab": {
          "base_uri": "https://localhost:8080/",
          "height": 1000
        },
        "id": "MM7j9I-KD4UH",
        "outputId": "6016124e-a893-4713-c376-387719e5fd59"
      },
      "execution_count": null,
      "outputs": [
        {
          "output_type": "display_data",
          "data": {
            "text/plain": [
              "   Person Occasion Item Score\n",
              "1  1      1        1     9   \n",
              "2  1      2        1     9   \n",
              "3  2      1        1     9   \n",
              "4  2      2        1     6   \n",
              "5  3      1        1     8   \n",
              "6  3      2        1     8   \n",
              "7  4      1        1     9   \n",
              "8  4      2        1     9   \n",
              "9  5      1        1    10   \n",
              "10 5      2        1     8   \n",
              "11 6      1        1     6   \n",
              "12 6      2        1     3   \n",
              "13 1      1        2     9   \n",
              "14 1      2        2     8   \n",
              "15 2      1        2     8   \n",
              "16 2      2        2     5   \n",
              "17 3      1        2     8   \n",
              "18 3      2        2     7   \n",
              "19 4      1        2     8   \n",
              "20 4      2        2     6   \n",
              "21 5      1        2     9   \n",
              "22 5      2        2     8   \n",
              "23 6      1        2     4   \n",
              "24 6      2        2     2   \n",
              "25 1      1        3     7   \n",
              "26 1      2        3     5   \n",
              "27 2      1        3     4   \n",
              "28 2      2        3     3   \n",
              "29 3      1        3     6   \n",
              "30 3      2        3     3   \n",
              "31 4      1        3     6   \n",
              "32 4      2        3     6   \n",
              "33 5      1        3     8   \n",
              "34 5      2        3     9   \n",
              "35 6      1        3     5   \n",
              "36 6      2        3     3   \n",
              "37 1      1        4     4   \n",
              "38 1      2        4     5   \n",
              "39 2      1        4     6   \n",
              "40 2      2        4     3   \n",
              "41 3      1        4     2   \n",
              "42 3      2        4     2   \n",
              "43 4      1        4     3   \n",
              "44 4      2        4     2   \n",
              "45 5      1        4     7   \n",
              "46 5      2        4     7   \n",
              "47 6      1        4     1   \n",
              "48 6      2        4     2   "
            ],
            "text/latex": "A data.frame: 48 × 4\n\\begin{tabular}{llll}\n Person & Occasion & Item & Score\\\\\n <fct> & <fct> & <fct> & <dbl>\\\\\n\\hline\n\t 1 & 1 & 1 &  9\\\\\n\t 1 & 2 & 1 &  9\\\\\n\t 2 & 1 & 1 &  9\\\\\n\t 2 & 2 & 1 &  6\\\\\n\t 3 & 1 & 1 &  8\\\\\n\t 3 & 2 & 1 &  8\\\\\n\t 4 & 1 & 1 &  9\\\\\n\t 4 & 2 & 1 &  9\\\\\n\t 5 & 1 & 1 & 10\\\\\n\t 5 & 2 & 1 &  8\\\\\n\t 6 & 1 & 1 &  6\\\\\n\t 6 & 2 & 1 &  3\\\\\n\t 1 & 1 & 2 &  9\\\\\n\t 1 & 2 & 2 &  8\\\\\n\t 2 & 1 & 2 &  8\\\\\n\t 2 & 2 & 2 &  5\\\\\n\t 3 & 1 & 2 &  8\\\\\n\t 3 & 2 & 2 &  7\\\\\n\t 4 & 1 & 2 &  8\\\\\n\t 4 & 2 & 2 &  6\\\\\n\t 5 & 1 & 2 &  9\\\\\n\t 5 & 2 & 2 &  8\\\\\n\t 6 & 1 & 2 &  4\\\\\n\t 6 & 2 & 2 &  2\\\\\n\t 1 & 1 & 3 &  7\\\\\n\t 1 & 2 & 3 &  5\\\\\n\t 2 & 1 & 3 &  4\\\\\n\t 2 & 2 & 3 &  3\\\\\n\t 3 & 1 & 3 &  6\\\\\n\t 3 & 2 & 3 &  3\\\\\n\t 4 & 1 & 3 &  6\\\\\n\t 4 & 2 & 3 &  6\\\\\n\t 5 & 1 & 3 &  8\\\\\n\t 5 & 2 & 3 &  9\\\\\n\t 6 & 1 & 3 &  5\\\\\n\t 6 & 2 & 3 &  3\\\\\n\t 1 & 1 & 4 &  4\\\\\n\t 1 & 2 & 4 &  5\\\\\n\t 2 & 1 & 4 &  6\\\\\n\t 2 & 2 & 4 &  3\\\\\n\t 3 & 1 & 4 &  2\\\\\n\t 3 & 2 & 4 &  2\\\\\n\t 4 & 1 & 4 &  3\\\\\n\t 4 & 2 & 4 &  2\\\\\n\t 5 & 1 & 4 &  7\\\\\n\t 5 & 2 & 4 &  7\\\\\n\t 6 & 1 & 4 &  1\\\\\n\t 6 & 2 & 4 &  2\\\\\n\\end{tabular}\n",
            "text/markdown": "\nA data.frame: 48 × 4\n\n| Person &lt;fct&gt; | Occasion &lt;fct&gt; | Item &lt;fct&gt; | Score &lt;dbl&gt; |\n|---|---|---|---|\n| 1 | 1 | 1 |  9 |\n| 1 | 2 | 1 |  9 |\n| 2 | 1 | 1 |  9 |\n| 2 | 2 | 1 |  6 |\n| 3 | 1 | 1 |  8 |\n| 3 | 2 | 1 |  8 |\n| 4 | 1 | 1 |  9 |\n| 4 | 2 | 1 |  9 |\n| 5 | 1 | 1 | 10 |\n| 5 | 2 | 1 |  8 |\n| 6 | 1 | 1 |  6 |\n| 6 | 2 | 1 |  3 |\n| 1 | 1 | 2 |  9 |\n| 1 | 2 | 2 |  8 |\n| 2 | 1 | 2 |  8 |\n| 2 | 2 | 2 |  5 |\n| 3 | 1 | 2 |  8 |\n| 3 | 2 | 2 |  7 |\n| 4 | 1 | 2 |  8 |\n| 4 | 2 | 2 |  6 |\n| 5 | 1 | 2 |  9 |\n| 5 | 2 | 2 |  8 |\n| 6 | 1 | 2 |  4 |\n| 6 | 2 | 2 |  2 |\n| 1 | 1 | 3 |  7 |\n| 1 | 2 | 3 |  5 |\n| 2 | 1 | 3 |  4 |\n| 2 | 2 | 3 |  3 |\n| 3 | 1 | 3 |  6 |\n| 3 | 2 | 3 |  3 |\n| 4 | 1 | 3 |  6 |\n| 4 | 2 | 3 |  6 |\n| 5 | 1 | 3 |  8 |\n| 5 | 2 | 3 |  9 |\n| 6 | 1 | 3 |  5 |\n| 6 | 2 | 3 |  3 |\n| 1 | 1 | 4 |  4 |\n| 1 | 2 | 4 |  5 |\n| 2 | 1 | 4 |  6 |\n| 2 | 2 | 4 |  3 |\n| 3 | 1 | 4 |  2 |\n| 3 | 2 | 4 |  2 |\n| 4 | 1 | 4 |  3 |\n| 4 | 2 | 4 |  2 |\n| 5 | 1 | 4 |  7 |\n| 5 | 2 | 4 |  7 |\n| 6 | 1 | 4 |  1 |\n| 6 | 2 | 4 |  2 |\n\n",
            "text/html": [
              "<table class=\"dataframe\">\n",
              "<caption>A data.frame: 48 × 4</caption>\n",
              "<thead>\n",
              "\t<tr><th scope=col>Person</th><th scope=col>Occasion</th><th scope=col>Item</th><th scope=col>Score</th></tr>\n",
              "\t<tr><th scope=col>&lt;fct&gt;</th><th scope=col>&lt;fct&gt;</th><th scope=col>&lt;fct&gt;</th><th scope=col>&lt;dbl&gt;</th></tr>\n",
              "</thead>\n",
              "<tbody>\n",
              "\t<tr><td>1</td><td>1</td><td>1</td><td> 9</td></tr>\n",
              "\t<tr><td>1</td><td>2</td><td>1</td><td> 9</td></tr>\n",
              "\t<tr><td>2</td><td>1</td><td>1</td><td> 9</td></tr>\n",
              "\t<tr><td>2</td><td>2</td><td>1</td><td> 6</td></tr>\n",
              "\t<tr><td>3</td><td>1</td><td>1</td><td> 8</td></tr>\n",
              "\t<tr><td>3</td><td>2</td><td>1</td><td> 8</td></tr>\n",
              "\t<tr><td>4</td><td>1</td><td>1</td><td> 9</td></tr>\n",
              "\t<tr><td>4</td><td>2</td><td>1</td><td> 9</td></tr>\n",
              "\t<tr><td>5</td><td>1</td><td>1</td><td>10</td></tr>\n",
              "\t<tr><td>5</td><td>2</td><td>1</td><td> 8</td></tr>\n",
              "\t<tr><td>6</td><td>1</td><td>1</td><td> 6</td></tr>\n",
              "\t<tr><td>6</td><td>2</td><td>1</td><td> 3</td></tr>\n",
              "\t<tr><td>1</td><td>1</td><td>2</td><td> 9</td></tr>\n",
              "\t<tr><td>1</td><td>2</td><td>2</td><td> 8</td></tr>\n",
              "\t<tr><td>2</td><td>1</td><td>2</td><td> 8</td></tr>\n",
              "\t<tr><td>2</td><td>2</td><td>2</td><td> 5</td></tr>\n",
              "\t<tr><td>3</td><td>1</td><td>2</td><td> 8</td></tr>\n",
              "\t<tr><td>3</td><td>2</td><td>2</td><td> 7</td></tr>\n",
              "\t<tr><td>4</td><td>1</td><td>2</td><td> 8</td></tr>\n",
              "\t<tr><td>4</td><td>2</td><td>2</td><td> 6</td></tr>\n",
              "\t<tr><td>5</td><td>1</td><td>2</td><td> 9</td></tr>\n",
              "\t<tr><td>5</td><td>2</td><td>2</td><td> 8</td></tr>\n",
              "\t<tr><td>6</td><td>1</td><td>2</td><td> 4</td></tr>\n",
              "\t<tr><td>6</td><td>2</td><td>2</td><td> 2</td></tr>\n",
              "\t<tr><td>1</td><td>1</td><td>3</td><td> 7</td></tr>\n",
              "\t<tr><td>1</td><td>2</td><td>3</td><td> 5</td></tr>\n",
              "\t<tr><td>2</td><td>1</td><td>3</td><td> 4</td></tr>\n",
              "\t<tr><td>2</td><td>2</td><td>3</td><td> 3</td></tr>\n",
              "\t<tr><td>3</td><td>1</td><td>3</td><td> 6</td></tr>\n",
              "\t<tr><td>3</td><td>2</td><td>3</td><td> 3</td></tr>\n",
              "\t<tr><td>4</td><td>1</td><td>3</td><td> 6</td></tr>\n",
              "\t<tr><td>4</td><td>2</td><td>3</td><td> 6</td></tr>\n",
              "\t<tr><td>5</td><td>1</td><td>3</td><td> 8</td></tr>\n",
              "\t<tr><td>5</td><td>2</td><td>3</td><td> 9</td></tr>\n",
              "\t<tr><td>6</td><td>1</td><td>3</td><td> 5</td></tr>\n",
              "\t<tr><td>6</td><td>2</td><td>3</td><td> 3</td></tr>\n",
              "\t<tr><td>1</td><td>1</td><td>4</td><td> 4</td></tr>\n",
              "\t<tr><td>1</td><td>2</td><td>4</td><td> 5</td></tr>\n",
              "\t<tr><td>2</td><td>1</td><td>4</td><td> 6</td></tr>\n",
              "\t<tr><td>2</td><td>2</td><td>4</td><td> 3</td></tr>\n",
              "\t<tr><td>3</td><td>1</td><td>4</td><td> 2</td></tr>\n",
              "\t<tr><td>3</td><td>2</td><td>4</td><td> 2</td></tr>\n",
              "\t<tr><td>4</td><td>1</td><td>4</td><td> 3</td></tr>\n",
              "\t<tr><td>4</td><td>2</td><td>4</td><td> 2</td></tr>\n",
              "\t<tr><td>5</td><td>1</td><td>4</td><td> 7</td></tr>\n",
              "\t<tr><td>5</td><td>2</td><td>4</td><td> 7</td></tr>\n",
              "\t<tr><td>6</td><td>1</td><td>4</td><td> 1</td></tr>\n",
              "\t<tr><td>6</td><td>2</td><td>4</td><td> 2</td></tr>\n",
              "</tbody>\n",
              "</table>\n"
            ]
          },
          "metadata": {}
        }
      ]
    },
    {
      "cell_type": "code",
      "source": [
        ""
      ],
      "metadata": {
        "id": "wei8Vz_XELpU"
      },
      "execution_count": null,
      "outputs": []
    }
  ]
}